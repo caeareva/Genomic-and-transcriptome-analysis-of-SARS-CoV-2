{
 "cells": [
  {
   "cell_type": "code",
   "execution_count": null,
   "metadata": {},
   "outputs": [],
   "source": [
    "# Student: Carlos Arevalo (caeareva)\n",
    "# Griou: None\n",
    "# BME160 Final Project \n",
    "# Section: Sequence Alignment Analysis\n",
    "\n",
    "# Reference: Biopython \n",
    "# Note: Jalview sotfware provides a visualization of the sequences alignment \n",
    "# and what mutations make each sequence different from the others."
   ]
  },
  {
   "cell_type": "markdown",
   "metadata": {},
   "source": [
    "# Clustalw"
   ]
  },
  {
   "cell_type": "code",
   "execution_count": null,
   "metadata": {},
   "outputs": [],
   "source": [
    "# Install package\n",
    "# conda install -c biobuilds clustalw \n",
    "# import Bio"
   ]
  },
  {
   "cell_type": "markdown",
   "metadata": {},
   "source": [
    "# ORF S Alignment"
   ]
  },
  {
   "cell_type": "markdown",
   "metadata": {},
   "source": [
    "Alignmet analysis of the ORF S- spike protein sequences. This is a example of subgenomic RNAs and structural proteins \n",
    "analysis from the virus genomes."
   ]
  },
  {
   "cell_type": "code",
   "execution_count": 16,
   "metadata": {},
   "outputs": [
    {
     "name": "stdout",
     "output_type": "stream",
     "text": [
      "SingleLetterAlphabet() alignment with 4 rows and 1703 columns\n",
      "--------------------------------------------...HYT SARSCoV2_S\n",
      "MIALHLQTLNFCLLTEVFITQMIFLGLMSCIYKITFYLLTLMSL...--- BtRsBetaCoV_S\n",
      "MMFKPLITLNTLHPGEGFIILMKSLDQTLFILRIYFFHSILMSQ...--- Rs4231_S\n",
      "MMFKLLITLNILHLG-GFTILMKFLDQTLFILRIYFFHFILMLQ...--- CoV_U_S\n"
     ]
    }
   ],
   "source": [
    "from Bio import AlignIO\n",
    "\n",
    "#   contains the alinment results from Clustal Omega\n",
    "file = \"ORFS.aln\"\n",
    "format = \"clustal\"\n",
    "align = AlignIO.read(\"ORFS.aln\", \"clustal\")\n",
    "print(align)\n"
   ]
  },
  {
   "cell_type": "markdown",
   "metadata": {},
   "source": [
    "# ORF S Phylogenic  Tree"
   ]
  },
  {
   "cell_type": "code",
   "execution_count": 17,
   "metadata": {},
   "outputs": [
    {
     "name": "stdout",
     "output_type": "stream",
     "text": [
      "\n",
      "Distance Matrix\n",
      "===================\n",
      "SARSCoV2_S\t0\n",
      "BtRsBetaCoV_S\t0.9036993540810334\t0\n",
      "Rs4231_S\t0.9072225484439225\t0.14503816793893132\t0\n",
      "CoV_U_S\t0.9060481503229595\t0.14856136230182027\t0.12448620082207873\t0\n",
      "\tSARSCoV2_S\tBtRsBetaCoV_S\tRs4231_S\tCoV_U_S\n"
     ]
    },
    {
     "data": {
      "image/png": "[encoded data removed]",
      "text/plain": [
       "<Figure size 432x288 with 1 Axes>"
      ]
     },
     "metadata": {
      "needs_background": "light"
     },
     "output_type": "display_data"
    }
   ],
   "source": [
    "# Import modules\n",
    "from Bio import Phylo\n",
    "from Bio.Phylo.TreeConstruction import DistanceCalculator\n",
    "from Bio.Phylo.TreeConstruction import DistanceTreeConstructor\n",
    "from Bio import AlignIO\n",
    "\n",
    "# Calculate the distance matrix\n",
    "calculator = DistanceCalculator('identity')\n",
    "dm = calculator.get_distance(align)\n",
    "\n",
    "# Print the distance Matrix\n",
    "print('\\nDistance Matrix\\n===================')\n",
    "print(dm)\n",
    "\n",
    "# Construct the phylogenetic tree using UPGMA algorithm\n",
    "constructor = DistanceTreeConstructor()\n",
    "tree = constructor.upgma(dm)\n",
    "\n",
    "# Draw the phylogenetic tree\n",
    "Phylo.draw(tree)\n"
   ]
  },
  {
   "cell_type": "code",
   "execution_count": 18,
   "metadata": {},
   "outputs": [],
   "source": [
    "# Visualization of protein sequences alignment using dot a plot \n",
    "# Method from biopython and midofied for this analysis \n",
    "\n",
    "import sys\n",
    "\n",
    "def createMatrix(nrows, ncols):\n",
    "    \"\"\"Create a matrix of amino acid sequences to compare\"\"\"\n",
    "    matrix = []\n",
    "    # assign number of rows\n",
    "    for index in range(nrows):\n",
    "        matrix.append([])\n",
    "        # assign number of columns \n",
    "        for line in range(ncols):\n",
    "            matrix[index].append(0)\n",
    "    \n",
    "    return matrix\n",
    "\n",
    "def dotplot(sequence1, sequence2):\n",
    "    \"\"\"Takes matrix and assigns to length of amino acid sequence\"\"\"\n",
    "    matrix = createMatrix(len(sequence1), len(sequence2))\n",
    "    # takes the length of first sequence\n",
    "    for char in range(len(sequence1)):\n",
    "        # takes the length of second sequence\n",
    "        for nuc in range(len(sequence2)):\n",
    "            # align both sequences\n",
    "            if sequence1[char] == sequence2[nuc]:\n",
    "                # makes nucleotides equal 1 for plot alignment\n",
    "                matrix[char][nuc] = 1\n",
    "    \n",
    "    return matrix\n",
    "\n",
    "def printDotPlot(matrix, seq1, seq2):\n",
    "    \"\"\"print dot plot in stdout \"\"\"\n",
    "    # print method: stdout\n",
    "    sys.stdout.write(\" \" + seq2 + \"\\n\")\n",
    "    for index in range(len(matrix)):\n",
    "        sys.stdout.write(seq1[index])\n",
    "        for char in range(len(matrix[index])):\n",
    "            if matrix[index][char] >= 1:\n",
    "                sys.stdout.write(\"*\")\n",
    "            else:\n",
    "                sys.stdout.write(\" \")\n",
    "        \n",
    "        sys.stdout.write(\"\\n\")\n"
   ]
  },
  {
   "cell_type": "code",
   "execution_count": 10,
   "metadata": {},
   "outputs": [
    {
     "name": "stdout",
     "output_type": "stream",
     "text": [
      "Enter sequence 1: MMFKPLITLNTLHPGEGFIILMKSLDQTLFILRIYFFHSILMSQ\n",
      "Enter sequence 2: MMFKPLITLNTLHPGEGFIILMKSLDQTLFILRIYFFHSILMSQ\n",
      " MMFKPLITLNTLHPGEGFIILMKSLDQTLFILRIYFFHSILMSQ\n",
      "M**                   *                   *  \n",
      "M**                   *                   *  \n",
      "F  *              *           *     **       \n",
      "K   *                  *                     \n",
      "P    *        *                              \n",
      "L     *  *  *        *   *   *  *        *   \n",
      "I      *           **          *  *     *    \n",
      "T       *  *                *                \n",
      "L     *  *  *        *   *   *  *        *   \n",
      "N         *                                  \n",
      "T       *  *                *                \n",
      "L     *  *  *        *   *   *  *        *   \n",
      "H            *                        *      \n",
      "P    *        *                              \n",
      "G              * *                           \n",
      "E               *                            \n",
      "G              * *                           \n",
      "F  *              *           *     **       \n",
      "I      *           **          *  *     *    \n",
      "I      *           **          *  *     *    \n",
      "L     *  *  *        *   *   *  *        *   \n",
      "M**                   *                   *  \n",
      "K   *                  *                     \n",
      "S                       *              *   * \n",
      "L     *  *  *        *   *   *  *        *   \n",
      "D                         *                  \n",
      "Q                          *                *\n",
      "T       *  *                *                \n",
      "L     *  *  *        *   *   *  *        *   \n",
      "F  *              *           *     **       \n",
      "I      *           **          *  *     *    \n",
      "L     *  *  *        *   *   *  *        *   \n",
      "R                                *           \n",
      "I      *           **          *  *     *    \n",
      "Y                                  *         \n",
      "F  *              *           *     **       \n",
      "F  *              *           *     **       \n",
      "H            *                        *      \n",
      "S                       *              *   * \n",
      "I      *           **          *  *     *    \n",
      "L     *  *  *        *   *   *  *        *   \n",
      "M**                   *                   *  \n",
      "S                       *              *   * \n",
      "Q                          *                *\n"
     ]
    }
   ],
   "source": [
    "# This main() will output a bloxplot with background noise \n",
    "\n",
    "# Input sequences can be a fragment from the proteins alignment you want to visualize\n",
    "# Input sequences examples: \n",
    "#\n",
    "#       Rs4231_S = MMFKPLITLNTLHPGEGFIILMKSLDQTLFILRIYFFHSILMSQ\n",
    "#       BtRsBetaCoV_S = MIALHLQTLNFCLLTEVFITQMIFLGLMSCIYKITFYLLTLMSL\n",
    "\n",
    "\n",
    "def main():\n",
    "    \"\"\"Takes sequences and executes program\"\"\"\n",
    "    # Enter first sequence \n",
    "    sequence1 = input(\"Enter sequence 1: \")\n",
    "    # Entern second sequence\n",
    "    sequence2 = input(\"Enter sequence 2: \")\n",
    "    # call matrix \n",
    "    matrix1 = dotplot(sequence1, sequence2)\n",
    "    # call print dot plot\n",
    "    printDotPlot(matrix1, sequence1, sequence2)\n",
    "    \n",
    "if __name__ == \"__main__\":\n",
    "    main()   \n",
    "\n"
   ]
  },
  {
   "cell_type": "code",
   "execution_count": 14,
   "metadata": {},
   "outputs": [
    {
     "name": "stdout",
     "output_type": "stream",
     "text": [
      "Enter sequence 1: MMFKPLITLNTLHPGEGFIILMKSLDQTLFILRIYFFHSILMSQ\n",
      "Enter sequence 2: MMFKPLITLNTLHPGEGFIILMKSLDQTLFILRIYFFHSILMSQ\n",
      " MMFKPLITLNTLHPGEGFIILMKSLDQTLFILRIYFFHSILMSQ\n",
      "M                                            \n",
      "M                                            \n",
      "F  **                                        \n",
      "K   **                                       \n",
      "P    **                                      \n",
      "L     **                                     \n",
      "I      **                                    \n",
      "T       **                                   \n",
      "L        **                                  \n",
      "N         **                                 \n",
      "T          **                                \n",
      "L           **                               \n",
      "H            **                              \n",
      "P             **                             \n",
      "G              **                            \n",
      "E               **                           \n",
      "G                **                          \n",
      "F                 **                         \n",
      "I                  **                        \n",
      "I                   **                       \n",
      "L                    **                      \n",
      "M                     **                  *  \n",
      "K                      **                    \n",
      "S                       **                   \n",
      "L                        **                  \n",
      "D                         **                 \n",
      "Q                          **                \n",
      "T                           **               \n",
      "L                            **              \n",
      "F                             **             \n",
      "I                              **            \n",
      "L                               **           \n",
      "R                                **          \n",
      "I                                 **         \n",
      "Y                                  **        \n",
      "F                                   **       \n",
      "F                                    **      \n",
      "H                                     **     \n",
      "S                                      **    \n",
      "I                                       **   \n",
      "L                                        **  \n",
      "M                                         *  \n",
      "S                                            \n",
      "Q                                            \n"
     ]
    }
   ],
   "source": [
    "# This main() will clean and output a bloxplot without background noise \n",
    "\n",
    "# Input sequences can be a fragment from the proteins alignment you want to visualize\n",
    "# Input sequences examples: \n",
    "#\n",
    "#       Rs4231_S = MMFKPLITLNTLHPGEGFIILMKSLDQTLFILRIYFFHSILMSQ\n",
    "#       BtRsBetaCoV_S = MIALHLQTLNFCLLTEVFITQMIFLGLMSCIYKITFYLLTLMSL\n",
    "\n",
    "def filterDotPlot(sequence1, sequence2, window, stringency):\n",
    "    \"\"\"Method gets rid of backgourn noise in previous graph plot\"\"\"\n",
    "    # create matrix of sequences alignment \n",
    "    matrix = createMatrix(len(sequence1), len(sequence2))\n",
    "    start = int(window/2)\n",
    "    # take the position of each amino acid in sequence 1\n",
    "    for index in range(start, len(sequence1)-start):\n",
    "        # take the position of each amino acid in sequence 2\n",
    "        for position in range(start, len(sequence2)-start):\n",
    "            matches = 0\n",
    "            line = position - start\n",
    "            # create matrix and matches aminos\n",
    "            for item in range(index-start, index + start + 1):\n",
    "                # align sequence if same amino is found\n",
    "                if sequence1[item] == sequence2[line]: \n",
    "                    matches += 1\n",
    "                    line += 1\n",
    "                    if matches >= stringency:\n",
    "                        # makes nucleotides equal 1 for plot alignment\n",
    "                        matrix[index][pos] = 1\n",
    "                        \n",
    "    return matrix\n",
    "\n",
    "def main():\n",
    "    \"\"\"Takes sequences and executes program\"\"\"\n",
    "    # Enter first sequence \n",
    "    sequence1 = input(\"Enter sequence 1: \")\n",
    "    # Entern second sequence\n",
    "    sequence2 = input(\"Enter sequence 2: \")\n",
    "    # call matrix \n",
    "    matrix2 = filterDotPlot(sequence1, sequence2, 5, 4)\n",
    "    # print plot\n",
    "    printDotPlot(matrix2, sequence1, sequence2)\n",
    "    \n",
    "if __name__ == \"__main__\":\n",
    "    main()   \n"
   ]
  },
  {
   "cell_type": "markdown",
   "metadata": {},
   "source": [
    "# ORF1a Alignment"
   ]
  },
  {
   "cell_type": "markdown",
   "metadata": {},
   "source": [
    "Alignment analysis of the ORF1a encoding the nonstructural protein ORF1a polyprotein.\n",
    "This is a example of the genomic RNAs analysis."
   ]
  },
  {
   "cell_type": "code",
   "execution_count": 19,
   "metadata": {},
   "outputs": [
    {
     "name": "stdout",
     "output_type": "stream",
     "text": [
      "SingleLetterAlphabet() alignment with 4 rows and 1703 columns\n",
      "--------------------------------------------...HYT SARSCoV2_S\n",
      "MIALHLQTLNFCLLTEVFITQMIFLGLMSCIYKITFYLLTLMSL...--- BtRsBetaCoV_S\n",
      "MMFKPLITLNTLHPGEGFIILMKSLDQTLFILRIYFFHSILMSQ...--- Rs4231_S\n",
      "MMFKLLITLNILHLG-GFTILMKFLDQTLFILRIYFFHFILMLQ...--- CoV_U_S\n"
     ]
    }
   ],
   "source": [
    "from Bio import AlignIO\n",
    "\n",
    "# ORF1a contains the alinment results from Clustal Omega\n",
    "file = \"ORF1a.aln\"\n",
    "format = \"clustal\"\n",
    "alignment = AlignIO.read(\"ORF1a.aln\", \"clustal\")\n",
    "print(align)\n",
    "\n"
   ]
  },
  {
   "cell_type": "markdown",
   "metadata": {},
   "source": [
    "# ORF1a Polyprotein Phylogenic Three"
   ]
  },
  {
   "cell_type": "code",
   "execution_count": 5,
   "metadata": {},
   "outputs": [
    {
     "name": "stdout",
     "output_type": "stream",
     "text": [
      "\n",
      "Distance Matrix\n",
      "===================\n",
      "Rs4231\t0\n",
      "CoV_U\t0.09642193308550184\t0\n",
      "SARSCoV2\t0.5485594795539033\t0.5587825278810409\t0\n",
      "ratG13\t0.5652881040892193\t0.5518122676579926\t0.1189591078066915\t0\n",
      "\tRs4231\tCoV_U\tSARSCoV2\tratG13\n"
     ]
    },
    {
     "data": {
      "image/png": "[encoded data removed]",
      "text/plain": [
       "<Figure size 432x288 with 1 Axes>"
      ]
     },
     "metadata": {
      "needs_background": "light"
     },
     "output_type": "display_data"
    }
   ],
   "source": [
    "# Import modules\n",
    "from Bio import Phylo\n",
    "from Bio.Phylo.TreeConstruction import DistanceCalculator\n",
    "from Bio.Phylo.TreeConstruction import DistanceTreeConstructor\n",
    "from Bio import AlignIO\n",
    "\n",
    "# Calculate the distance matrix\n",
    "calculator = DistanceCalculator('identity')\n",
    "dm = calculator.get_distance(alignment)\n",
    "\n",
    "# Print the distance Matrix\n",
    "print('\\nDistance Matrix\\n===================')\n",
    "print(dm)\n",
    "\n",
    "# Construct the phylogenetic tree using UPGMA algorithm\n",
    "constructor = DistanceTreeConstructor()\n",
    "tree = constructor.upgma(dm)\n",
    "\n",
    "# Draw the phylogenetic tree\n",
    "Phylo.draw(tree)\n"
   ]
  },
  {
   "cell_type": "markdown",
   "metadata": {},
   "source": [
    "# Dotplot of Alignment "
   ]
  },
  {
   "cell_type": "code",
   "execution_count": 21,
   "metadata": {},
   "outputs": [
    {
     "name": "stdout",
     "output_type": "stream",
     "text": [
      "Enter sequence 1: MMFKPLITLNTLHPGEGFIILMKSLDQTLFILRIYFFHSILMSQ\n",
      "Enter sequence 2: MMFKPLITLNTLHPGEGFIILMKSLDQTLFILRIYFFHSILMSQ\n",
      " MMFKPLITLNTLHPGEGFIILMKSLDQTLFILRIYFFHSILMSQ\n",
      "M                                            \n",
      "M                                            \n",
      "F  **                                        \n",
      "K   **                                       \n",
      "P    **                                      \n",
      "L     **                                     \n",
      "I      **                                    \n",
      "T       **                                   \n",
      "L        **                                  \n",
      "N         **                                 \n",
      "T          **                                \n",
      "L           **                               \n",
      "H            **                              \n",
      "P             **                             \n",
      "G              **                            \n",
      "E               **                           \n",
      "G                **                          \n",
      "F                 **                         \n",
      "I                  **                        \n",
      "I                   **                       \n",
      "L                    **                      \n",
      "M                     **                  *  \n",
      "K                      **                    \n",
      "S                       **                   \n",
      "L                        **                  \n",
      "D                         **                 \n",
      "Q                          **                \n",
      "T                           **               \n",
      "L                            **              \n",
      "F                             **             \n",
      "I                              **            \n",
      "L                               **           \n",
      "R                                **          \n",
      "I                                 **         \n",
      "Y                                  **        \n",
      "F                                   **       \n",
      "F                                    **      \n",
      "H                                     **     \n",
      "S                                      **    \n",
      "I                                       **   \n",
      "L                                        **  \n",
      "M                                         *  \n",
      "S                                            \n",
      "Q                                            \n"
     ]
    }
   ],
   "source": [
    "# This main() will clean and output a bloxplot without background noise \n",
    "\n",
    "# Input sequences can be a fragment from the proteins alignment you want to visualize\n",
    "# Input sequences examples: \n",
    "#\n",
    "#       Rs4231_S = MMFKPLITLNTLHPGEGFIILMKSLDQTLFILRIYFFHSILMSQ\n",
    "#       BtRsBetaCoV_S = MIALHLQTLNFCLLTEVFITQMIFLGLMSCIYKITFYLLTLMSL\n",
    "\n",
    "def filterDotPlot(sequence1, sequence2, window, stringency):\n",
    "    \"\"\"Method gets rid of backgourn noise in previous graph plot\"\"\"\n",
    "    # create matrix of sequences alignment \n",
    "    matrix = createMatrix(len(sequence1), len(sequence2))\n",
    "    start = int(window/2)\n",
    "    # take the position of each amino acid in sequence 1\n",
    "    for index in range(start, len(sequence1)-start):\n",
    "        # take the position of each amino acid in sequence 2\n",
    "        for position in range(start, len(sequence2)-start):\n",
    "            matches = 0\n",
    "            line = position - start\n",
    "            # create matrix and matches aminos\n",
    "            for item in range(index-start, index + start + 1):\n",
    "                # align sequence if same amino is found\n",
    "                if sequence1[item] == sequence2[line]: \n",
    "                    matches += 1\n",
    "                    line += 1\n",
    "                    if matches >= stringency:\n",
    "                        # makes nucleotides equal 1 for plot alignment\n",
    "                        matrix[index][position] = 1\n",
    "                        \n",
    "    return matrix\n",
    "\n",
    "def main():\n",
    "    \"\"\"Takes sequences and executes program\"\"\"\n",
    "    # Enter first sequence \n",
    "    sequence1 = input(\"Enter sequence 1: \")\n",
    "    # Entern second sequence\n",
    "    sequence2 = input(\"Enter sequence 2: \")\n",
    "    # call matrix \n",
    "    matrix2 = filterDotPlot(sequence1, sequence2, 5, 4)\n",
    "    # print plot\n",
    "    printDotPlot(matrix2, sequence1, sequence2)\n",
    "    \n",
    "if __name__ == \"__main__\":\n",
    "    main()   \n",
    "\n",
    "\n"
   ]
  },
  {
   "cell_type": "code",
   "execution_count": null,
   "metadata": {},
   "outputs": [],
   "source": []
  }
 ],
 "metadata": {
  "kernelspec": {
   "display_name": "Python 3",
   "language": "python",
   "name": "python3"
  },
  "language_info": {
   "codemirror_mode": {
    "name": "ipython",
    "version": 3
   },
   "file_extension": ".py",
   "mimetype": "text/x-python",
   "name": "python",
   "nbconvert_exporter": "python",
   "pygments_lexer": "ipython3",
   "version": "3.7.6"
  }
 },
 "nbformat": 4,
 "nbformat_minor": 4
}
